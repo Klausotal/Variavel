{
 "cells": [
  {
   "cell_type": "markdown",
   "id": "1d94dc07",
   "metadata": {},
   "source": [
    "Meu primeiro programa"
   ]
  },
  {
   "cell_type": "code",
   "execution_count": 12,
   "id": "f6fc0552",
   "metadata": {},
   "outputs": [
    {
     "name": "stdout",
     "output_type": "stream",
     "text": [
      "text é verdadeiro\n"
     ]
    }
   ],
   "source": [
    "#text precisa estar entre \"\" ou ''e para imprimir e numeros nao precisa\\ #text é uma string\n",
    "print('text é' +' verdadeiro') "
   ]
  },
  {
   "cell_type": "code",
   "execution_count": 16,
   "id": "1a25638a",
   "metadata": {},
   "outputs": [
    {
     "name": "stdout",
     "output_type": "stream",
     "text": [
      "True\n"
     ]
    }
   ],
   "source": [
    "# 'in' é uma verificação\n",
    "print('Klaus' in 'Klaus Bordin Griebel Rampoldi')"
   ]
  },
  {
   "cell_type": "code",
   "execution_count": null,
   "id": "df5b9329",
   "metadata": {},
   "outputs": [],
   "source": []
  }
 ],
 "metadata": {
  "kernelspec": {
   "display_name": "Python 3",
   "language": "python",
   "name": "python3"
  },
  "language_info": {
   "codemirror_mode": {
    "name": "ipython",
    "version": 3
   },
   "file_extension": ".py",
   "mimetype": "text/x-python",
   "name": "python",
   "nbconvert_exporter": "python",
   "pygments_lexer": "ipython3",
   "version": "3.9.13"
  }
 },
 "nbformat": 4,
 "nbformat_minor": 5
}
