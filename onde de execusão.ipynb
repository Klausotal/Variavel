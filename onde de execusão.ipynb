{
 "cells": [
  {
   "cell_type": "code",
   "execution_count": 5,
   "id": "2e9e59d4",
   "metadata": {},
   "outputs": [
    {
     "name": "stdout",
     "output_type": "stream",
     "text": [
      "500\n",
      "300\n"
     ]
    }
   ],
   "source": [
    "#codigo sempre vai ler de cima para baixo\n",
    "faturamento = 1000\n",
    "custo = 500\n",
    "\n",
    "lucro = faturamento - custo\n",
    "print(lucro)\n",
    "\n",
    "custo = 700\n",
    "\n",
    "lucro = faturamento - custo\n",
    "print(lucro)"
   ]
  },
  {
   "cell_type": "code",
   "execution_count": null,
   "id": "a179dd3e",
   "metadata": {},
   "outputs": [],
   "source": []
  }
 ],
 "metadata": {
  "kernelspec": {
   "display_name": "Python 3",
   "language": "python",
   "name": "python3"
  },
  "language_info": {
   "codemirror_mode": {
    "name": "ipython",
    "version": 3
   },
   "file_extension": ".py",
   "mimetype": "text/x-python",
   "name": "python",
   "nbconvert_exporter": "python",
   "pygments_lexer": "ipython3",
   "version": "3.9.13"
  }
 },
 "nbformat": 4,
 "nbformat_minor": 5
}
